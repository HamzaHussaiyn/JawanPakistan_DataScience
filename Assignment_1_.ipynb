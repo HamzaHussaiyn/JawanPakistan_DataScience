{
  "nbformat": 4,
  "nbformat_minor": 0,
  "metadata": {
    "colab": {
      "name": "Assignment-1 .ipynb",
      "provenance": []
    },
    "kernelspec": {
      "name": "python3",
      "display_name": "Python 3"
    },
    "language_info": {
      "name": "python"
    }
  },
  "cells": [
    {
      "cell_type": "code",
      "execution_count": 7,
      "metadata": {
        "colab": {
          "base_uri": "https://localhost:8080/"
        },
        "cellView": "code",
        "id": "w3vnmYWN_BDs",
        "outputId": "79d0892f-1fbf-41b7-ab64-e7d8f68f385e"
      },
      "outputs": [
        {
          "output_type": "stream",
          "name": "stdout",
          "text": [
            "Twinkle, twinkle, little star,\n",
            "\tHow I Wonder what you are\n"
          ]
        }
      ],
      "source": [
        "#@title Default title text\n",
        "print (\"Twinkle, twinkle, little star,\\n\\tHow I Wonder what you are\")"
      ]
    },
    {
      "cell_type": "code",
      "source": [
        "import sys \n",
        "print (sys.version)"
      ],
      "metadata": {
        "colab": {
          "base_uri": "https://localhost:8080/"
        },
        "id": "vg2WcG-fAJBJ",
        "outputId": "b53e787c-d483-41b1-d3f5-c0f64bdadb2d"
      },
      "execution_count": 10,
      "outputs": [
        {
          "output_type": "stream",
          "name": "stdout",
          "text": [
            "3.7.12 (default, Sep 10 2021, 00:21:48) \n",
            "[GCC 7.5.0]\n"
          ]
        }
      ]
    },
    {
      "cell_type": "code",
      "source": [
        "from datetime import date\n",
        "print(date.today())\n",
        "from datetime import datetime \n",
        "print(datetime.now())"
      ],
      "metadata": {
        "colab": {
          "base_uri": "https://localhost:8080/"
        },
        "id": "Jb4DvvEHBTJk",
        "outputId": "ff335072-7084-48c4-df6f-ae76fa07650b"
      },
      "execution_count": 16,
      "outputs": [
        {
          "output_type": "stream",
          "name": "stdout",
          "text": [
            "2022-01-01\n",
            "2022-01-01 09:44:50.971261\n"
          ]
        }
      ]
    },
    {
      "cell_type": "code",
      "source": [
        "r=int(input(\"Enter Radius\"))\n",
        "v=2*22/7*r\n",
        "print(v)"
      ],
      "metadata": {
        "colab": {
          "base_uri": "https://localhost:8080/"
        },
        "id": "Oa_7iFlhB8VY",
        "outputId": "846f9e35-4910-4076-bca4-7840111764bd"
      },
      "execution_count": 20,
      "outputs": [
        {
          "output_type": "stream",
          "name": "stdout",
          "text": [
            "Enter Radius4\n",
            "25.142857142857142\n"
          ]
        }
      ]
    },
    {
      "cell_type": "code",
      "source": [
        "a=str(input(\"Enter First Name\"))\n",
        "b=str(input(\"Enter Second Name\"))\n",
        "print (b+\" \"+a)"
      ],
      "metadata": {
        "colab": {
          "base_uri": "https://localhost:8080/"
        },
        "id": "doJEwz0FDED_",
        "outputId": "228ef354-dffd-4942-b43f-698171e3559a"
      },
      "execution_count": 22,
      "outputs": [
        {
          "output_type": "stream",
          "name": "stdout",
          "text": [
            "Enter First NameHamza\n",
            "Enter Second NameHussain\n",
            "Hussain Hamza\n"
          ]
        }
      ]
    },
    {
      "cell_type": "code",
      "source": [
        "a=int(input(\"Enter 1st Number\"))\n",
        "b=int(input(\"Enter 2nd Number\"))\n",
        "c=a+b\n",
        "print (\"The sum is :\",c)"
      ],
      "metadata": {
        "colab": {
          "base_uri": "https://localhost:8080/"
        },
        "id": "g1SN5v9RD1bW",
        "outputId": "f6e0f801-ec40-47ce-baae-d11b4029677d"
      },
      "execution_count": 23,
      "outputs": [
        {
          "output_type": "stream",
          "name": "stdout",
          "text": [
            "Enter 1st Number5\n",
            "Enter 2nd Number2\n",
            "The sum is : 7\n"
          ]
        }
      ]
    }
  ]
}